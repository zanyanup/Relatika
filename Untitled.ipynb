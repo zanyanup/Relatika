{
 "cells": [
  {
   "cell_type": "code",
   "execution_count": 13,
   "metadata": {},
   "outputs": [
    {
     "name": "stdout",
     "output_type": "stream",
     "text": [
      "Top matches:\n",
      "Fitness lover and healthy lifestyle advocate. Seeking someone who values fitness and well-being.\n",
      "Love to meditate & do yoga. I'm a minimalist. Trying to become a vegan. Looking for someone who is spiritual.\n",
      "I love hiking and outdoor adventures. Looking for someone who shares my passion for nature.\n",
      "Art lover and museum goer. Searching for someone to explore art galleries and exhibitions with.\n",
      "Avid reader and coffee enthusiast. Looking for intellectual conversations and a great company.\n"
     ]
    }
   ],
   "source": [
    "from sentence_transformers import SentenceTransformer\n",
    "from sklearn.feature_extraction.text import TfidfVectorizer\n",
    "from sklearn.metrics.pairwise import cosine_similarity\n",
    "import faiss\n",
    "import numpy as np\n",
    "\n",
    "# Load pre-trained model\n",
    "model = SentenceTransformer('paraphrase-MiniLM-L6-v2')\n",
    "\n",
    "# Sample profiles\n",
    "profiles = [\n",
    "    \"I love hiking and outdoor adventures. Looking for someone who shares my passion for nature.\",\n",
    "    \"Avid reader and coffee enthusiast. Looking for intellectual conversations and a great company.\",\n",
    "    \"Tech enthusiast and gamer. Looking for someone who enjoys video games and technology discussions.\",\n",
    "    \"Fitness lover and healthy lifestyle advocate. Seeking someone who values fitness and well-being.\",\n",
    "    \"Art lover and museum goer. Searching for someone to explore art galleries and exhibitions with.\",\n",
    "    \"Love to meditate & do yoga. I'm a minimalist. Trying to become a vegan. Looking for someone who is spiritual.\",\n",
    "]\n",
    "\n",
    "# Convert profiles to embeddings\n",
    "profile_embeddings = model.encode(profiles)\n",
    "\n",
    "# Convert embeddings to numpy array\n",
    "profile_embeddings_np = np.array(profile_embeddings).astype('float32')\n",
    "\n",
    "# Build the FAISS index\n",
    "index = faiss.IndexFlatL2(profile_embeddings_np.shape[1])  # L2 distance\n",
    "index.add(profile_embeddings_np)\n",
    "\n",
    "# TF-IDF Vectorizer\n",
    "vectorizer = TfidfVectorizer()\n",
    "tfidf_matrix = vectorizer.fit_transform(profiles)\n",
    "\n",
    "# Query profile\n",
    "query_profile = \"I enjoy luxury travels and tasty food. Looking for an extroverted partner who enjoys a lavish life.\"\n",
    "query_embedding = model.encode([query_profile]).astype('float32')\n",
    "\n",
    "# Search the index for top 5 matches using embeddings\n",
    "k = 5  # Number of top matches to retrieve\n",
    "D, I = index.search(query_embedding, k)\n",
    "\n",
    "# Get the indices of top matches from embeddings\n",
    "top_embedding_matches = I[0]\n",
    "\n",
    "# Compute TF-IDF similarity\n",
    "query_tfidf = vectorizer.transform([query_profile])\n",
    "cosine_similarities = cosine_similarity(query_tfidf, tfidf_matrix).flatten()\n",
    "\n",
    "# Combine results from embeddings and TF-IDF\n",
    "combined_scores = [(i, D[0][idx] + (1 - cosine_similarities[i])) for idx, i in enumerate(top_embedding_matches)]\n",
    "combined_scores.sort(key=lambda x: x[1])  # Sort by combined score\n",
    "\n",
    "# Get the indices of top combined matches\n",
    "top_combined_matches = [idx for idx, score in combined_scores]\n",
    "\n",
    "# Print the results\n",
    "print(\"Top matches:\")\n",
    "for i in top_combined_matches:\n",
    "    print(profiles[i])"
   ]
  },
  {
   "cell_type": "code",
   "execution_count": null,
   "metadata": {},
   "outputs": [],
   "source": []
  }
 ],
 "metadata": {
  "kernelspec": {
   "display_name": "Python 3",
   "language": "python",
   "name": "python3"
  },
  "language_info": {
   "codemirror_mode": {
    "name": "ipython",
    "version": 3
   },
   "file_extension": ".py",
   "mimetype": "text/x-python",
   "name": "python",
   "nbconvert_exporter": "python",
   "pygments_lexer": "ipython3",
   "version": "3.7.7"
  }
 },
 "nbformat": 4,
 "nbformat_minor": 4
}
